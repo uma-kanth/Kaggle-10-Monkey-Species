{
 "cells": [
  {
   "cell_type": "code",
   "execution_count": null,
   "id": "064bb76d-7943-4c52-96a2-1099fba08469",
   "metadata": {},
   "outputs": [],
   "source": [
    "import os\n",
    "import torch\n",
    "import torchvision\n",
    "import torchvision.transforms as transforms\n",
    "import matplotlib.pyplot as plt\n",
    "import numpy as np"
   ]
  },
  {
   "cell_type": "code",
   "execution_count": null,
   "id": "4845f346-f125-4e73-bd5d-cc6ae2b96a40",
   "metadata": {},
   "outputs": [],
   "source": [
    "os.listdir('data/training/training')"
   ]
  },
  {
   "cell_type": "code",
   "execution_count": null,
   "id": "967cc803-17f1-4e2a-9d2d-d2bc6c5b9a3c",
   "metadata": {},
   "outputs": [],
   "source": [
    "train_data_set_path = 'data/training/training'\n",
    "test_data_set_path =  'data/validation/validation'"
   ]
  },
  {
   "cell_type": "code",
   "execution_count": null,
   "id": "8f6fa608-05e1-41a6-96a4-253766de431b",
   "metadata": {},
   "outputs": [],
   "source": [
    "training_transform = transforms.Compose([transforms.Resize((224,224)), transforms.ToTensor()])"
   ]
  },
  {
   "cell_type": "code",
   "execution_count": null,
   "id": "f4ef9096-bc64-42b8-9822-17f1d29b5472",
   "metadata": {},
   "outputs": [],
   "source": [
    "training_dataset = torchvision.datasets.ImageFolder(root = train_data_set_path, transform = training_transform)"
   ]
  },
  {
   "cell_type": "code",
   "execution_count": null,
   "id": "44aa2736-b28f-417b-b920-df9f57e2061a",
   "metadata": {},
   "outputs": [],
   "source": [
    "train_loader = torch.utils.data.DataLoader(dataset = training_dataset, batch_size = 32, shuffle = False)"
   ]
  },
  {
   "cell_type": "code",
   "execution_count": null,
   "id": "bc9f6c3e-d29d-41c2-9eea-89fe0e1aaa2b",
   "metadata": {},
   "outputs": [],
   "source": [
    "#next(iter(train_loader))"
   ]
  },
  {
   "cell_type": "code",
   "execution_count": null,
   "id": "5fe9b291-0a9c-4882-817e-cacf99d212f0",
   "metadata": {},
   "outputs": [],
   "source": [
    "def get_mean_and_std(loader):\n",
    "    mean = 0.\n",
    "    std = 0.\n",
    "    Total_images_count = 0\n",
    "    for images, _ in loader:\n",
    "        image_count_in_a_batch = images.size(0)\n",
    "        images = images.view(image_count_in_a_batch, images.size(1),-1)\n",
    "        mean += images.mean(2).sum(0)\n",
    "        std += images.std(2).sum(0)\n",
    "        Total_images_count += image_count_in_a_batch\n",
    "    mean /= Total_images_count\n",
    "    std  /= Total_images_count\n",
    "\n",
    "    return mean,std"
   ]
  },
  {
   "cell_type": "code",
   "execution_count": null,
   "id": "6264721a-b81f-4c1d-9407-e6c53afb6e41",
   "metadata": {},
   "outputs": [],
   "source": [
    "get_mean_and_std(train_loader)"
   ]
  },
  {
   "cell_type": "code",
   "execution_count": null,
   "id": "fa1fe96d-5ce2-42fc-8136-4379eea52336",
   "metadata": {},
   "outputs": [],
   "source": [
    "mean = [0.4363, 0.4328, 0.3291]\n",
    "std = [0.2129, 0.2075, 0.2038]\n",
    "train_transforms = transforms.Compose([\n",
    "        transforms.Resize((224,224)),\n",
    "        transforms.RandomHorizontalFlip(),\n",
    "        transforms.RandomRotation(10),\n",
    "        transforms.ToTensor(),\n",
    "        transforms.Normalize(torch.Tensor(mean), torch.Tensor(std))\n",
    "])\n",
    "\n",
    "test_transforms = transforms.Compose([\n",
    "        transforms.Resize((224,224)),\n",
    "        transforms.ToTensor(),\n",
    "        transforms.Normalize(torch.Tensor(mean), torch.Tensor(std))\n",
    "])"
   ]
  },
  {
   "cell_type": "code",
   "execution_count": null,
   "id": "ac2e24c1-092f-44aa-b454-bb9b06d0f548",
   "metadata": {},
   "outputs": [],
   "source": [
    "train_dataset = torchvision.datasets.ImageFolder(root = train_data_set_path, transform =train_transforms )\n",
    "test_dataset = torchvision.datasets.ImageFolder(root = test_data_set_path, transform = test_transforms)"
   ]
  },
  {
   "cell_type": "code",
   "execution_count": null,
   "id": "92c09c0b-9209-406e-ba8f-da1dd169a129",
   "metadata": {},
   "outputs": [],
   "source": [
    "def show_transformed_images(dataset):\n",
    "    loader = torch.utils.data.DataLoader(dataset, batch_size = 6,shuffle = True)\n",
    "    batch = next(iter(loader))\n",
    "    images, labels = batch\n",
    "\n",
    "    grid = torchvision.utils.make_grid(images, nrow=3)\n",
    "    plt.figure(figsize=(11,11))\n",
    "    plt.imshow(np.transpose(grid, (1,2,0)))\n",
    "    print('labes:',labels)"
   ]
  },
  {
   "cell_type": "code",
   "execution_count": null,
   "id": "2a9b5690-1deb-43ec-9ee7-6b7c5601198e",
   "metadata": {
    "scrolled": true
   },
   "outputs": [],
   "source": [
    "show_transformed_images(train_dataset)"
   ]
  },
  {
   "cell_type": "code",
   "execution_count": null,
   "id": "59c55a01-8488-4d39-8ff4-0edd78a93b8c",
   "metadata": {
    "jupyter": {
     "source_hidden": true
    }
   },
   "outputs": [],
   "source": [
    "train_loader = torch.utils.data.DataLoader(train_dataset, batch_size = 32, shuffle=True)\n",
    "test_loader = torch.utils.data.DataLoader(test_dataset, batch_size = 32, shuffle = False)"
   ]
  },
  {
   "cell_type": "code",
   "execution_count": null,
   "id": "af7cc0da-f15b-42f4-b249-f7a07871ba23",
   "metadata": {},
   "outputs": [],
   "source": [
    "def set_device():\n",
    "    if torch.cuda.is_available():\n",
    "        #print('cuda gpu is available')\n",
    "        dev = 'cuda:0'\n",
    "    else:\n",
    "        dev = 'cpu'\n",
    "    return torch.device(dev)     "
   ]
  },
  {
   "cell_type": "code",
   "execution_count": null,
   "id": "c1550957-3095-4d0c-a08d-c8caae58a0f7",
   "metadata": {},
   "outputs": [],
   "source": [
    "set_device()"
   ]
  },
  {
   "cell_type": "code",
   "execution_count": null,
   "id": "9949d877-ff6a-447d-945e-9116a667055f",
   "metadata": {},
   "outputs": [],
   "source": [
    "def train_nn(model, train_loader, test_loader, criterion, optimizer, n_epoch):\n",
    "    device = set_device()\n",
    "    best_acc = 0\n",
    "    for epoch in range(n_epoch):\n",
    "        print('Epoch number %d' % (epoch +1))\n",
    "        model.train()\n",
    "        running_loss = 0\n",
    "        running_correct = 0\n",
    "        total = 0\n",
    "\n",
    "        for data in train_loader:\n",
    "            images, labels = data\n",
    "            images = images.to(device)\n",
    "            labels = labels.to(device)\n",
    "            total += labels.size(0)\n",
    "\n",
    "            optimizer.zero_grad()\n",
    "            \n",
    "            outputs=model(images)\n",
    "            _, predicted = torch.max(outputs.data, 1)\n",
    "\n",
    "            loss = criterion(outputs, labels)\n",
    "\n",
    "            loss.backward()\n",
    "\n",
    "            optimizer.step()\n",
    "            \n",
    "            running_loss += loss.item()\n",
    "            running_correct += (labels == predicted).sum().item()\n",
    "\n",
    "        epoch_loss = running_loss/len(train_loader)\n",
    "        epoch_acc = 100.00 * running_correct / total\n",
    "\n",
    "        print(\" _Training dataset got %d out of %d images correct (%.3f%%).epoch loss:%.3f \" % (running_correct, total, epoch_acc, epoch_loss))\n",
    "\n",
    "        Test_dataset_acc = evaluate_model_on_test_dataset(model, test_loader)\n",
    "        if(Test_dataset_acc > best_acc):\n",
    "            best_acc = Test_dataset_acc\n",
    "            save_checkpoint(model, epoch, optimizer, best_acc)\n",
    "        \n",
    "    print('finished')\n",
    "    return model"
   ]
  },
  {
   "cell_type": "code",
   "execution_count": null,
   "id": "41113f5c-cbef-4f09-a8fb-0fb64429544b",
   "metadata": {},
   "outputs": [],
   "source": [
    "def evaluate_model_on_test_dataset(model, test_loader):\n",
    "    model.eval()\n",
    "    predicted_correctly_on_epoch = 0\n",
    "    total = 0 \n",
    "    device  = set_device()\n",
    "    \n",
    "    with torch.no_grad():\n",
    "        for data in test_loader:\n",
    "            images, labels = data\n",
    "            images = images.to(device)\n",
    "            labels = labels.to(device)\n",
    "            total += labels.size(0)\n",
    "\n",
    "            outputs=model(images)\n",
    "            _, predicted = torch.max(outputs.data, 1)\n",
    "\n",
    "            predicted_correctly_on_epoch += (predicted ==labels).sum().item()\n",
    "\n",
    "    epoch_acc = 100.00 * predicted_correctly_on_epoch / total\n",
    "    print(\" _Testing dataset. got %d out of %d images correctly(%.3f%%)\" % (predicted_correctly_on_epoch, total, epoch_acc))\n",
    "\n",
    "    return epoch_acc"
   ]
  },
  {
   "cell_type": "code",
   "execution_count": null,
   "id": "4ed004af-bb29-4a43-ac3a-898c7171fddf",
   "metadata": {},
   "outputs": [],
   "source": [
    "def save_checkpoint(model, epoch, optimizer, best_acc):\n",
    "    state = {\n",
    "        'epoch': epoch + 1,\n",
    "        'model': model.state_dict(),\n",
    "        'best_acc': best_acc,\n",
    "        'optimizer': optimizer.state_dict(),\n",
    "\n",
    "    }\n",
    "    torch.save(state, 'model_best_checkpoint.pth.tar')"
   ]
  },
  {
   "cell_type": "code",
   "execution_count": null,
   "id": "f8eb8b15-2b41-4ba4-8de9-a3e94d7d509a",
   "metadata": {},
   "outputs": [],
   "source": [
    "import torchvision.models as models\n",
    "import torch.nn as nn\n",
    "import torch.optim as optim\n",
    "\n",
    "resnet18_model = models.resnet18(pretrained = False)\n",
    "num_ftrs = resnet18_model.fc.in_features\n",
    "number_of_classes = 10\n",
    "resnet18_model.fc = nn.Linear(num_ftrs, number_of_classes)\n",
    "device = set_device()\n",
    "resnet18_model = resnet18_model.to(device)\n",
    "loss_fn = nn.CrossEntropyLoss()\n",
    "\n",
    "optimizer = optim.SGD(resnet18_model.parameters(), lr=0.01, momentum=0.9, weight_decay=0.003)"
   ]
  },
  {
   "cell_type": "code",
   "execution_count": null,
   "id": "13ef4a22-1eee-4f5c-bd29-a5990fdeec51",
   "metadata": {},
   "outputs": [],
   "source": [
    "train_nn(resnet18_model, train_loader, test_loader, loss_fn, optimizer, 20)"
   ]
  },
  {
   "cell_type": "code",
   "execution_count": null,
   "id": "8014df6a-0d7d-4e19-bd93-4f8a8d756321",
   "metadata": {},
   "outputs": [],
   "source": [
    "checkpoint =  torch.load('model_best_checkpoint.pth.tar')"
   ]
  },
  {
   "cell_type": "code",
   "execution_count": null,
   "id": "1ddc7857-b4a8-4c53-bf8e-29729d6ab444",
   "metadata": {},
   "outputs": [],
   "source": [
    "print(checkpoint['epoch'])\n",
    "print(checkpoint['best_acc'])"
   ]
  },
  {
   "cell_type": "code",
   "execution_count": 32,
   "id": "a7411d37-51a9-4d40-8b33-5f1a04fa0e09",
   "metadata": {},
   "outputs": [],
   "source": [
    "\n",
    "resnet18_model = models.resnet18()\n",
    "num_ftrs = resnet18_model.fc.in_features\n",
    "number_of_classes = 10\n",
    "resnet18_model.fc = nn.Linear(num_ftrs, number_of_classes)\n",
    "resnet18_model.load_state_dict(checkpoint['model']) \n",
    "\n",
    "torch.save(resnet18_model, 'best_model.pth')"
   ]
  },
  {
   "cell_type": "code",
   "execution_count": null,
   "id": "361b830c-82a7-47ff-908f-64c4e2d54372",
   "metadata": {},
   "outputs": [],
   "source": []
  }
 ],
 "metadata": {
  "kernelspec": {
   "display_name": "Python 3 (ipykernel)",
   "language": "python",
   "name": "python3"
  },
  "language_info": {
   "codemirror_mode": {
    "name": "ipython",
    "version": 3
   },
   "file_extension": ".py",
   "mimetype": "text/x-python",
   "name": "python",
   "nbconvert_exporter": "python",
   "pygments_lexer": "ipython3",
   "version": "3.10.14"
  }
 },
 "nbformat": 4,
 "nbformat_minor": 5
}

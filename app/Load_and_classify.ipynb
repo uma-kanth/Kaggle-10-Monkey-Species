{
 "cells": [
  {
   "cell_type": "code",
   "execution_count": 1,
   "id": "b66827f1-ee1c-402d-a419-5a8cc15d4942",
   "metadata": {},
   "outputs": [],
   "source": [
    "import torch\n",
    "import torchvision\n",
    "import torchvision.transforms as transforms\n",
    "import PIL.Image as Image"
   ]
  },
  {
   "cell_type": "code",
   "execution_count": 2,
   "id": "3ed59cc7-07e0-41f9-90c8-9034bf40a647",
   "metadata": {},
   "outputs": [],
   "source": [
    "classes = [\n",
    "    \"mantled_howler\",\n",
    "    \"patas_monkey\",\n",
    "    \"bald_uakari\",\n",
    "    \"japanese_macaque\",\n",
    "    \"pygmy_marmoset\",\n",
    "    \"white_headed_capuchin\",\n",
    "    \"silvery_marmoset\",\n",
    "    \"common_squirrel_monkey\",\n",
    "    \"black_headed_night_monkey\",\n",
    "    \"nilgiri_langur\",\n",
    "]"
   ]
  },
  {
   "cell_type": "code",
   "execution_count": 3,
   "id": "5d87ef0a-d13f-49d6-ba3c-c5d9e359ab86",
   "metadata": {},
   "outputs": [],
   "source": [
    "model = torch.load('best_model.pth')"
   ]
  },
  {
   "cell_type": "code",
   "execution_count": 5,
   "id": "32b43bef-3c22-45fd-91c8-18dd231fc489",
   "metadata": {},
   "outputs": [],
   "source": [
    "mean = [0.4363, 0.4328, 0.3291]\n",
    "std = [0.2129, 0.2075, 0.2038]\n",
    "\n",
    "image_transforms = transforms.Compose([\n",
    "    transforms.Resize((224,224)),\n",
    "    transforms.ToTensor(),\n",
    "    transforms.Normalize(torch.Tensor(mean), torch.Tensor(std))\n",
    "])"
   ]
  },
  {
   "cell_type": "code",
   "execution_count": 11,
   "id": "1947a4df-4cd6-4590-9b73-b8ca4103b459",
   "metadata": {},
   "outputs": [],
   "source": [
    "def classify(model, image_transforms, image_path, classes):\n",
    "    model = model.eval()\n",
    "    image = Image.open(image_path)\n",
    "    image = image_transforms(image).float()\n",
    "    image = image.unsqueeze(0)\n",
    "\n",
    "    output = model(image)\n",
    "    _,predicted = torch.max(output.data, 1)\n",
    "    \n",
    "    print(classes[predicted.item()])"
   ]
  },
  {
   "cell_type": "code",
   "execution_count": 14,
   "id": "1c9a6ec2-e1b8-4794-b5fb-eb393452dcd2",
   "metadata": {},
   "outputs": [
    {
     "name": "stdout",
     "output_type": "stream",
     "text": [
      "japanese_macaque\n"
     ]
    }
   ],
   "source": [
    "classify(model, image_transforms, 'ehmru62fkjf41.jpg', classes)"
   ]
  },
  {
   "cell_type": "code",
   "execution_count": null,
   "id": "a07b17b9-89c6-4baf-8bf8-0ef410d41ec0",
   "metadata": {},
   "outputs": [],
   "source": []
  }
 ],
 "metadata": {
  "kernelspec": {
   "display_name": "Python 3 (ipykernel)",
   "language": "python",
   "name": "python3"
  },
  "language_info": {
   "codemirror_mode": {
    "name": "ipython",
    "version": 3
   },
   "file_extension": ".py",
   "mimetype": "text/x-python",
   "name": "python",
   "nbconvert_exporter": "python",
   "pygments_lexer": "ipython3",
   "version": "3.10.14"
  }
 },
 "nbformat": 4,
 "nbformat_minor": 5
}
